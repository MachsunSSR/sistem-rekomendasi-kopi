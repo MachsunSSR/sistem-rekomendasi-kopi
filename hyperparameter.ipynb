{
 "cells": [
  {
   "cell_type": "code",
   "execution_count": 74,
   "metadata": {},
   "outputs": [
    {
     "name": "stdout",
     "output_type": "stream",
     "text": [
      "                                                                                         precision    recall  f1-score   support\n",
      "\n",
      "                              ['Chocobanana (es coklat dengan campuran perisa pisang)']       0.60      1.00      0.75         3\n",
      "                             ['Chocomint (es coklat dengan campuran perisa daun mint)']       1.00      0.67      0.80         3\n",
      "                               ['Chocoorange (es coklat dengan campuran perisa jeruk)']       1.00      0.33      0.50         3\n",
      "                                                                      ['Hot Chocolate']       0.67      0.67      0.67         3\n",
      "                                          ['Hot Thai Tea (seduhan teh panas thai tea)']       0.50      1.00      0.67         1\n",
      "                                                                      ['Ice Chocolate']       1.00      0.50      0.67         2\n",
      "                                         ['Ice Lychee Tea (teh leci dengan buah leci)']       1.00      1.00      1.00         2\n",
      "                                                                          ['Kopi Susu']       0.86      0.86      0.86         7\n",
      "                           ['Kopimint (es kopi susu dengan campuran perisa daun mint)']       0.75      1.00      0.86         3\n",
      "                         ['Kopisang (es kopi susu dengan campuran perisa pisang susu)']       1.00      0.83      0.91         6\n",
      "                                     ['MangoBoost (campuran sirup mangga dengan susu)']       0.75      1.00      0.86         3\n",
      "                                      ['Markisquash (campuran sirup markisa dan soda)']       0.00      0.00      0.00         2\n",
      "                                     ['OrangeBoost (campuran sirup jeruk dengan susu)']       1.00      0.67      0.80         3\n",
      "                                           ['Sunsetia (campuran sirup jeruk dan soda)']       0.50      1.00      0.67         2\n",
      "                               ['Tubruk (seduhan dari gilingan kasar dari kopi murni)']       0.50      1.00      0.67         1\n",
      "['Tubruk Susu (seduhan dari gilingan kasar dari kopi murni dan ditambahi dengan susu)']       1.00      1.00      1.00         2\n",
      "\n",
      "                                                                               accuracy                           0.78        46\n",
      "                                                                              macro avg       0.76      0.78      0.73        46\n",
      "                                                                           weighted avg       0.81      0.78      0.76        46\n",
      "\n"
     ]
    }
   ],
   "source": [
    "# Remove warning\n",
    "import warnings\n",
    "warnings.filterwarnings('ignore')\n",
    "\n",
    "import pandas as pd\n",
    "import numpy as np \n",
    "import matplotlib.pyplot as plt\n",
    "\n",
    "# read data\n",
    "df = pd.read_csv(\"cleaned3.csv\")\n",
    "\n",
    "# TF-IDF\n",
    "from sklearn.feature_extraction.text import TfidfVectorizer\n",
    "\n",
    "tfidf = TfidfVectorizer()\n",
    "X = tfidf.fit_transform(df[\"Cleaned\"])\n",
    "y = df[\"Preferensi\"]\n",
    "\n",
    "# Splitting data\n",
    "from sklearn.model_selection import train_test_split\n",
    "\n",
    "# X_train, X_test, y_train, y_test = train_test_split(X, y, stratify=y, random_state=28, test_size=0.2)\n",
    "X_train, X_test, y_train, y_test = train_test_split(X, y, stratify=y, random_state=40, test_size=0.2)\n",
    "\n",
    "# Import Random Forest\n",
    "from sklearn.ensemble import RandomForestClassifier\n",
    "\n",
    "# Train the X\n",
    "model = RandomForestClassifier()\n",
    "model.fit(X_train, y_train)\n",
    "\n",
    "# evaluation\n",
    "from sklearn.metrics import classification_report\n",
    "\n",
    "y_pred = model.predict(X_test)\n",
    "print(classification_report(y_test, y_pred))"
   ]
  },
  {
   "cell_type": "code",
   "execution_count": 146,
   "metadata": {},
   "outputs": [
    {
     "name": "stdout",
     "output_type": "stream",
     "text": [
      "Fitting 5 folds for each of 81 candidates, totalling 405 fits\n",
      "{'max_depth': 10, 'min_samples_leaf': 1, 'min_samples_split': 5, 'n_estimators': 300}\n"
     ]
    }
   ],
   "source": [
    "# Hyperparameter Tuning\n",
    "from sklearn.model_selection import GridSearchCV\n",
    "\n",
    "param_grid = {\n",
    "    \"n_estimators\": [100, 200, 300],\n",
    "    \"max_depth\": [None, 5, 10],\n",
    "    \"min_samples_split\": [2, 5, 10],\n",
    "    \"min_samples_leaf\": [1, 2, 4]\n",
    "}\n",
    "\n",
    "grid_search = GridSearchCV(model, param_grid, cv=5, scoring=\"accuracy\", verbose=1, n_jobs=-1)\n",
    "grid_search.fit(X_train, y_train)\n",
    "\n",
    "print(grid_search.best_params_)"
   ]
  },
  {
   "cell_type": "code",
   "execution_count": 159,
   "metadata": {},
   "outputs": [
    {
     "name": "stdout",
     "output_type": "stream",
     "text": [
      "                                                                                         precision    recall  f1-score   support\n",
      "\n",
      "                              ['Chocobanana (es coklat dengan campuran perisa pisang)']       0.75      1.00      0.86         3\n",
      "                             ['Chocomint (es coklat dengan campuran perisa daun mint)']       1.00      0.67      0.80         3\n",
      "                               ['Chocoorange (es coklat dengan campuran perisa jeruk)']       1.00      0.33      0.50         3\n",
      "                                                                      ['Hot Chocolate']       1.00      0.67      0.80         3\n",
      "                                          ['Hot Thai Tea (seduhan teh panas thai tea)']       0.50      1.00      0.67         1\n",
      "                                                                      ['Ice Chocolate']       1.00      1.00      1.00         2\n",
      "                                         ['Ice Lychee Tea (teh leci dengan buah leci)']       1.00      1.00      1.00         2\n",
      "                                                                          ['Kopi Susu']       0.88      1.00      0.93         7\n",
      "                           ['Kopimint (es kopi susu dengan campuran perisa daun mint)']       1.00      1.00      1.00         3\n",
      "                         ['Kopisang (es kopi susu dengan campuran perisa pisang susu)']       1.00      1.00      1.00         6\n",
      "                                     ['MangoBoost (campuran sirup mangga dengan susu)']       0.75      1.00      0.86         3\n",
      "                                      ['Markisquash (campuran sirup markisa dan soda)']       0.00      0.00      0.00         2\n",
      "                                     ['OrangeBoost (campuran sirup jeruk dengan susu)']       1.00      0.67      0.80         3\n",
      "                                           ['Sunsetia (campuran sirup jeruk dan soda)']       0.50      1.00      0.67         2\n",
      "                               ['Tubruk (seduhan dari gilingan kasar dari kopi murni)']       0.50      1.00      0.67         1\n",
      "['Tubruk Susu (seduhan dari gilingan kasar dari kopi murni dan ditambahi dengan susu)']       1.00      1.00      1.00         2\n",
      "\n",
      "                                                                               accuracy                           0.85        46\n",
      "                                                                              macro avg       0.80      0.83      0.78        46\n",
      "                                                                           weighted avg       0.86      0.85      0.83        46\n",
      "\n"
     ]
    }
   ],
   "source": [
    "# Train the X\n",
    "model_tuned = RandomForestClassifier(max_depth=None, min_samples_leaf=1, min_samples_split=5, n_estimators=300)\n",
    "model.fit(X_train, y_train)\n",
    "\n",
    "# evaluation\n",
    "from sklearn.metrics import classification_report\n",
    "\n",
    "y_pred = model.predict(X_test)\n",
    "print(classification_report(y_test, y_pred))"
   ]
  }
 ],
 "metadata": {
  "kernelspec": {
   "display_name": "Python 3",
   "language": "python",
   "name": "python3"
  },
  "language_info": {
   "codemirror_mode": {
    "name": "ipython",
    "version": 3
   },
   "file_extension": ".py",
   "mimetype": "text/x-python",
   "name": "python",
   "nbconvert_exporter": "python",
   "pygments_lexer": "ipython3",
   "version": "3.11.5"
  }
 },
 "nbformat": 4,
 "nbformat_minor": 2
}
